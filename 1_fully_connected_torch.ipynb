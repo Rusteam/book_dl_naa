{
 "cells": [
  {
   "cell_type": "markdown",
   "metadata": {},
   "source": [
    "# Build a Fully-Connected Net on MNIST in PyTorch\n",
    "\n",
    "February 2019\n",
    "\n",
    "---\n",
    "\n",
    "Useful links:\n",
    "- [torch FC example](https://pytorch.org/tutorials/beginner/examples_nn/two_layer_net_nn.html)\n"
   ]
  },
  {
   "cell_type": "code",
   "execution_count": 1,
   "metadata": {},
   "outputs": [],
   "source": [
    "from torchvision import datasets, transforms\n",
    "import torch\n",
    "from torch.autograd import Variable\n",
    "import torch.nn as nn\n",
    "import torch.nn.functional as F\n",
    "import torch.optim as optim\n",
    "from torch.utils.data import DataLoader\n",
    "\n",
    "import time\n",
    "import copy"
   ]
  },
  {
   "cell_type": "code",
   "execution_count": 58,
   "metadata": {},
   "outputs": [
    {
     "name": "stdout",
     "output_type": "stream",
     "text": [
      "Populating the interactive namespace from numpy and matplotlib\n"
     ]
    }
   ],
   "source": [
    "%pylab inline\n",
    "import seaborn as sns"
   ]
  },
  {
   "cell_type": "code",
   "execution_count": 1,
   "metadata": {},
   "outputs": [
    {
     "name": "stdout",
     "output_type": "stream",
     "text": [
      "Writing rgutils/plot_utils.py\n"
     ]
    }
   ],
   "source": [
    "%%writefile rgutils/plot_utils.py\n",
    "\n",
    "import matplotlib.pyplot as plt\n",
    "\n",
    "def plot_learning_curve(history, fig_shape=(12,4), plot_style='fivethirtyeight'):\n",
    "    '''\n",
    "    Plots learning curve for loss and score both for train and validation\n",
    "    -------\n",
    "    :metrics is a dict with following keys: ['step', 'val_loss', 'loss', 'val_score', 'score'], where values are lists\n",
    "    '''\n",
    "    plt.style.use(plot_style)\n",
    "    plt.figure(figsize=fig_shape)\n",
    "    plt.subplot(121)\n",
    "    plt.title('Loss curves')\n",
    "    plt.plot(history['epoch'], history['train_loss'], 'r--', label='train loss')\n",
    "    plt.plot(history['epoch'], history['val_loss'], 'b--', label='validation loss')\n",
    "    plt.xlabel('epoch')\n",
    "    plt.legend()\n",
    "    plt.subplot(122)\n",
    "    plt.title('Score curves')\n",
    "    plt.plot(history['epoch'], history['train_score'], 'r--', label='train score')\n",
    "    plt.plot(history['epoch'], history['val_score'], 'b--', label='validation score')\n",
    "    plt.xlabel('epoch')\n",
    "    plt.legend()\n",
    "    plt.show()"
   ]
  },
  {
   "cell_type": "code",
   "execution_count": 2,
   "metadata": {},
   "outputs": [
    {
     "name": "stdout",
     "output_type": "stream",
     "text": [
      "Writing rgutils/torch_utils.py\n"
     ]
    }
   ],
   "source": [
    "%%writefile rgutils/torch_utils.py\n",
    "\n",
    "def train_epoch(model, dataloader, device, optimizer, criterion):\n",
    "    '''\n",
    "    Makes 1 training epoch and evaluates train error\n",
    "    '''\n",
    "    model.train()\n",
    "    \n",
    "    running_loss = 0\n",
    "    num_correct = 0\n",
    "    for img_data,img_labels in dataloader:\n",
    "        images = img_data.reshape(-1, input_size).to(device)\n",
    "        labels = img_labels.to(device)\n",
    "        \n",
    "        y_pred = model(images)\n",
    "        loss = criterion(y_pred, labels,)\n",
    "        \n",
    "        _,y_pred_labels = torch.max(y_pred, dim=1)\n",
    "        num_correct += torch.sum(labels == y_pred_labels).item()\n",
    "        running_loss += loss.item() * labels.size(0)\n",
    "        \n",
    "        optimizer.zero_grad()\n",
    "        loss.backward()\n",
    "        optimizer.step()\n",
    "    \n",
    "    epoch_loss = running_loss / len(train_loader.dataset)\n",
    "    epoch_acc = num_correct / len(train_loader.dataset) * 100\n",
    "    return epoch_loss, epoch_acc\n",
    "\n",
    "\n",
    "def eval_epoch(model, dataloader, device, criterion):\n",
    "    '''\n",
    "    Evaluate validation error after an epoch of training\n",
    "    '''\n",
    "    model.eval()\n",
    "    running_loss = 0\n",
    "    num_correct = 0\n",
    "    for img_data, img_labels in dataloader:\n",
    "        images = img_data.reshape(-1, input_size).to(device)\n",
    "        labels = img_labels.to(device)\n",
    "        \n",
    "        y_pred = model(images)\n",
    "        loss = criterion(y_pred, labels,)\n",
    "        \n",
    "        _,y_pred_labels = torch.max(y_pred, dim=1)\n",
    "        num_correct += torch.sum(labels == y_pred_labels).item()\n",
    "        running_loss += loss.item() * labels.size(0)\n",
    "    \n",
    "    val_loss = running_loss / len(val_loader.dataset)\n",
    "    val_acc = num_correct / len(val_loader.dataset) * 100\n",
    "    return val_loss, val_acc\n",
    "\n",
    "\n",
    "def run_training(num_epoch, model, dataloaders, optimizer, criterion, device, \n",
    "                 history=None, print_stats=True):\n",
    "    '''\n",
    "    Runs training for a specified number of epochs\n",
    "    '''\n",
    "    if history is not None:\n",
    "        start_epoch = max(history['epoch']) + 1\n",
    "    else:\n",
    "        history = {'epoch': [], 'train_score': [], 'val_score': [], 'train_loss': [], 'val_loss': []}\n",
    "        start_epoch = 0\n",
    "    for ep in range(start_epoch, num_epoch):\n",
    "        if print_stats:\n",
    "            print('='*10, 'Epoch', ep, '='*10)\n",
    "\n",
    "        train_loss, train_score = train_epoch(model, dataloaders['train'], device, optimizer, criterion)\n",
    "        val_loss, val_score = eval_epoch(model, dataloaders['val'], device, criterion)\n",
    "        history['epoch'].append(ep)\n",
    "        history['train_score'].append(train_score), history['train_loss'].append(train_loss)\n",
    "        history['val_score'].append(val_score), history['val_loss'].append(val_loss)\n",
    "        \n",
    "        if print_stats:\n",
    "            print('%7d Loss | Score' % ep)\n",
    "            print('Train %.4f | %.1f' % (train_loss, train_score))\n",
    "            print('Valid %.4f | %.1f' % (val_loss, val_score))\n",
    "            print()\n",
    "    return model, history"
   ]
  },
  {
   "cell_type": "code",
   "execution_count": 2,
   "metadata": {},
   "outputs": [
    {
     "name": "stdout",
     "output_type": "stream",
     "text": [
      "cuda\n"
     ]
    }
   ],
   "source": [
    "device = torch.device('cuda' if torch.cuda.is_available() else 'cpu')\n",
    "print(device)"
   ]
  },
  {
   "cell_type": "markdown",
   "metadata": {},
   "source": [
    "### Define Data Loaders"
   ]
  },
  {
   "cell_type": "code",
   "execution_count": 39,
   "metadata": {},
   "outputs": [],
   "source": [
    "batch_size = 64"
   ]
  },
  {
   "cell_type": "code",
   "execution_count": 5,
   "metadata": {},
   "outputs": [],
   "source": [
    "mnist_transform = transforms.Compose([\n",
    "    transforms.ToTensor(),\n",
    "    transforms.Normalize((0.1307,), (0.3081,)),\n",
    "])"
   ]
  },
  {
   "cell_type": "code",
   "execution_count": 23,
   "metadata": {},
   "outputs": [],
   "source": [
    "train_loader = DataLoader(datasets.MNIST('./mnist_data', train=True, download=True, transform=mnist_transform,),\n",
    "                          batch_size=batch_size, shuffle=True)\n",
    "val_loader = DataLoader(datasets.MNIST('./mnist_data', train=False, download=True, transform=mnist_transform,),\n",
    "                          batch_size=batch_size, shuffle=True)\n",
    "dataloaders = {\n",
    "    'train': train_loader,\n",
    "    'val': val_loader,\n",
    "}"
   ]
  },
  {
   "cell_type": "markdown",
   "metadata": {},
   "source": [
    "### Define Network Architecture"
   ]
  },
  {
   "cell_type": "code",
   "execution_count": 147,
   "metadata": {},
   "outputs": [],
   "source": [
    "input_size = 28*28\n",
    "num_classes = 10\n",
    "hidden1 = 256\n",
    "hidden2 = 100"
   ]
  },
  {
   "cell_type": "code",
   "execution_count": 151,
   "metadata": {},
   "outputs": [
    {
     "name": "stdout",
     "output_type": "stream",
     "text": [
      "Sequential(\n",
      "  (0): Linear(in_features=784, out_features=256, bias=True)\n",
      "  (1): ReLU()\n",
      "  (2): BatchNorm1d(256, eps=1e-05, momentum=0.1, affine=True, track_running_stats=True)\n",
      "  (3): Linear(in_features=256, out_features=100, bias=True)\n",
      "  (4): ReLU()\n",
      "  (5): BatchNorm1d(100, eps=1e-05, momentum=0.1, affine=True, track_running_stats=True)\n",
      "  (6): Linear(in_features=100, out_features=10, bias=True)\n",
      "  (7): LogSoftmax()\n",
      ")\n"
     ]
    }
   ],
   "source": [
    "net = nn.Sequential(\n",
    "    nn.Linear(input_size, hidden1),\n",
    "    nn.ReLU(),\n",
    "    nn.BatchNorm1d(hidden1),\n",
    "    nn.Linear(hidden1, hidden2),\n",
    "    nn.ReLU(),\n",
    "    nn.BatchNorm1d(hidden2),\n",
    "    nn.Linear(hidden2, num_classes),\n",
    "    nn.LogSoftmax(dim=1),\n",
    ").to(device)\n",
    "\n",
    "print(net)"
   ]
  },
  {
   "cell_type": "markdown",
   "metadata": {},
   "source": [
    "### Training and Evaluation"
   ]
  },
  {
   "cell_type": "code",
   "execution_count": 152,
   "metadata": {},
   "outputs": [],
   "source": [
    "learning_rate = 0.1\n",
    "num_epoch = 10"
   ]
  },
  {
   "cell_type": "code",
   "execution_count": 153,
   "metadata": {},
   "outputs": [],
   "source": [
    "optimizer = optim.SGD(net.parameters(), learning_rate, momentum=0, nesterov=False)\n",
    "# optimizer = optim.RMSprop(net.parameters(), learning_rate)\n",
    "# optimizer = optim.Adadelta(net.parameters(), learning_rate)\n",
    "# optimizer = optim.Adam(net.parameters(), learning_rate)\n",
    "criterion = nn.CrossEntropyLoss()"
   ]
  },
  {
   "cell_type": "code",
   "execution_count": 154,
   "metadata": {
    "scrolled": true
   },
   "outputs": [
    {
     "name": "stdout",
     "output_type": "stream",
     "text": [
      "========== Epoch 0 ==========\n",
      "      0 Loss | Score\n",
      "Train 0.2100 | 94.1\n",
      "Valid 0.0979 | 96.9\n",
      "\n",
      "========== Epoch 1 ==========\n",
      "      1 Loss | Score\n",
      "Train 0.0904 | 97.2\n",
      "Valid 0.0794 | 97.4\n",
      "\n",
      "========== Epoch 2 ==========\n",
      "      2 Loss | Score\n",
      "Train 0.0624 | 98.0\n",
      "Valid 0.0650 | 97.9\n",
      "\n",
      "========== Epoch 3 ==========\n",
      "      3 Loss | Score\n",
      "Train 0.0489 | 98.5\n",
      "Valid 0.0626 | 97.9\n",
      "\n",
      "========== Epoch 4 ==========\n",
      "      4 Loss | Score\n",
      "Train 0.0382 | 98.8\n",
      "Valid 0.0767 | 97.7\n",
      "\n",
      "========== Epoch 5 ==========\n",
      "      5 Loss | Score\n",
      "Train 0.0312 | 99.0\n",
      "Valid 0.0645 | 98.1\n",
      "\n",
      "========== Epoch 6 ==========\n",
      "      6 Loss | Score\n",
      "Train 0.0251 | 99.2\n",
      "Valid 0.0617 | 98.0\n",
      "\n",
      "========== Epoch 7 ==========\n",
      "      7 Loss | Score\n",
      "Train 0.0192 | 99.4\n",
      "Valid 0.0666 | 98.1\n",
      "\n",
      "========== Epoch 8 ==========\n",
      "      8 Loss | Score\n",
      "Train 0.0170 | 99.5\n",
      "Valid 0.0663 | 98.1\n",
      "\n",
      "========== Epoch 9 ==========\n",
      "      9 Loss | Score\n",
      "Train 0.0150 | 99.5\n",
      "Valid 0.0672 | 98.1\n",
      "\n"
     ]
    }
   ],
   "source": [
    "model, history = run_training(num_epoch, net, dataloaders, optimizer, criterion, device,)"
   ]
  },
  {
   "cell_type": "code",
   "execution_count": 155,
   "metadata": {},
   "outputs": [
    {
     "data": {
      "image/png": "[encoded data removed]",
      "text/plain": [
       "<Figure size 864x288 with 2 Axes>"
      ]
     },
     "metadata": {},
     "output_type": "display_data"
    }
   ],
   "source": [
    "plot_learning_curve(history)"
   ]
  },
  {
   "cell_type": "markdown",
   "metadata": {},
   "source": [
    "### Reporting"
   ]
  },
  {
   "cell_type": "markdown",
   "metadata": {},
   "source": [
    "**Reports on fully connected network:**\n",
    "\n",
    "Set parameters: \n",
    "- SGD with learning rate at 0.5\n",
    "- Batch size of 64\n",
    "- ReLU activation for hidden layers\n",
    "\n",
    "|Epochs|Hidden Units|Validation Score (max)|Overfit|\n",
    "|---|---|---|---|\n",
    "10|0|82.7 (90)|~2.0\n",
    "10|100|96.8 (97)|~1.5\n",
    "10|[100,100]|97.2|~0.5\n",
    "20|[100,100]|96.3 (97)|~2.0\n",
    "20|[256,256]|97.7 |~1.5\n",
    "10|[256,100]|97.2 (97.7) |~1.0"
   ]
  },
  {
   "cell_type": "markdown",
   "metadata": {},
   "source": [
    "**Reports on different optimizers:**\n",
    "\n",
    "Set parameters: \n",
    "- Hidden units [256,100]\n",
    "- learning rate at 0.1\n",
    "- Batch size of 64\n",
    "- ReLU activation for hidden layers\n",
    "\n",
    "|Optimizer|Epochs to achieve 95%|Epochs to achieve 98%|Validation Score Max after 10|\n",
    "|---|---|---|---|\n",
    "SGD|2|4|98.3\n",
    "SGD with momentum at 0.9|2|-|96.0\n",
    "SGD with momentum at 0.9 and Nesterov|2|-|96.0\n",
    "RMSProp|-|-|-\n",
    "Adadelta|2|7|98.0\n",
    "Adam|-|-|-"
   ]
  },
  {
   "cell_type": "markdown",
   "metadata": {},
   "source": [
    "**Reports on Batch Normalization:**\n",
    "\n",
    "Set parameters: \n",
    "- Hidden units [256,100]\n",
    "- SGD with learning rate at 0.1\n",
    "- Batch size of 64\n",
    "- ReLU activation for hidden layers\n",
    "\n",
    "|Batchnorm|Epochs to achieve 95%|Epochs to achieve 98%|Validation Score Max after 10|\n",
    "|---|---|---|---|\n",
    "None|2|4|98.3\n",
    "Before activation|1|4|98.1\n",
    "After activation|1|6|98.1"
   ]
  },
  {
   "cell_type": "code",
   "execution_count": null,
   "metadata": {},
   "outputs": [],
   "source": []
  }
 ],
 "metadata": {
  "kernelspec": {
   "display_name": "Python 3",
   "language": "python",
   "name": "python3"
  },
  "language_info": {
   "codemirror_mode": {
    "name": "ipython",
    "version": 3
   },
   "file_extension": ".py",
   "mimetype": "text/x-python",
   "name": "python",
   "nbconvert_exporter": "python",
   "pygments_lexer": "ipython3",
   "version": "3.5.5"
  }
 },
 "nbformat": 4,
 "nbformat_minor": 2
}
