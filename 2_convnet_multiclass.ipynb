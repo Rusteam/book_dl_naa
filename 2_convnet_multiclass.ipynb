{
 "cells": [
  {
   "cell_type": "markdown",
   "metadata": {},
   "source": [
    "# Convolutional Net on MNIST and CIFAR-10"
   ]
  },
  {
   "cell_type": "code",
   "execution_count": 303,
   "metadata": {},
   "outputs": [],
   "source": [
    "from torchvision import datasets, transforms\n",
    "from torch import nn\n",
    "from torch.utils.data import DataLoader\n",
    "import torch\n",
    "from torch import optim"
   ]
  },
  {
   "cell_type": "code",
   "execution_count": 182,
   "metadata": {},
   "outputs": [],
   "source": [
    "from rgutils.plot_utils import plot_learning_curve\n",
    "\n",
    "%matplotlib inline"
   ]
  },
  {
   "cell_type": "code",
   "execution_count": 308,
   "metadata": {},
   "outputs": [
    {
     "name": "stdout",
     "output_type": "stream",
     "text": [
      "Overwriting rgutils/torch_utils.py\n"
     ]
    }
   ],
   "source": [
    "%%writefile rgutils/torch_utils.py\n",
    "\n",
    "import torch\n",
    "from math import floor\n",
    "\n",
    "\n",
    "def train_epoch(model, dataloader, input_size, device, optimizer, criterion,):\n",
    "    '''\n",
    "    Makes 1 training epoch and evaluates train error (for multi-class classification)\n",
    "    -----\n",
    "    Returns training loss and accuracy   \n",
    "    '''\n",
    "    model.train()\n",
    "    \n",
    "    running_loss = 0\n",
    "    num_correct = 0\n",
    "    for img_data,img_labels in dataloader:\n",
    "        images = img_data.view(-1, *input_size).to(device)\n",
    "        labels = img_labels.to(device)\n",
    "        \n",
    "        y_pred = model(images)\n",
    "        loss = criterion(y_pred, labels,)\n",
    "        \n",
    "        _,y_pred_labels = torch.max(y_pred, dim=1)\n",
    "        num_correct += torch.sum(labels == y_pred_labels).item()\n",
    "        running_loss += loss.item() * labels.size(0)\n",
    "        \n",
    "        optimizer.zero_grad()\n",
    "        loss.backward()\n",
    "        optimizer.step()\n",
    "    \n",
    "    epoch_loss = running_loss / len(train_loader.dataset)\n",
    "    epoch_acc = num_correct / len(train_loader.dataset) * 100\n",
    "    return epoch_loss, epoch_acc\n",
    "\n",
    "\n",
    "def eval_epoch(model, dataloader, input_size, device, criterion):\n",
    "    '''\n",
    "    Evaluate validation error after an epoch of training\n",
    "    '''\n",
    "    model.eval()\n",
    "    running_loss = 0\n",
    "    num_correct = 0\n",
    "    for img_data, img_labels in dataloader:\n",
    "        images = img_data.view(-1, *input_size).to(device)\n",
    "        labels = img_labels.to(device)\n",
    "        \n",
    "        y_pred = model(images)\n",
    "        loss = criterion(y_pred, labels,)\n",
    "        \n",
    "        _,y_pred_labels = torch.max(y_pred, dim=1)\n",
    "        num_correct += torch.sum(labels == y_pred_labels).item()\n",
    "        running_loss += loss.item() * labels.size(0)\n",
    "    \n",
    "    val_loss = running_loss / len(val_loader.dataset)\n",
    "    val_acc = num_correct / len(val_loader.dataset) * 100\n",
    "    return val_loss, val_acc\n",
    "\n",
    "\n",
    "def run_training(num_epoch, model, dataloaders, input_size, optimizer, criterion, \n",
    "                 device, history=None, print_stats=True):\n",
    "    '''\n",
    "    Runs training for a specified number of epochs\n",
    "    '''\n",
    "    if history is not None:\n",
    "        start_epoch = max(history['epoch']) + 1\n",
    "        num_epoch = num_epoch + start_epoch\n",
    "    else:\n",
    "        history = {'epoch': [], 'train_score': [], 'val_score': [], 'train_loss': [], 'val_loss': []}\n",
    "        start_epoch = 0\n",
    "    for ep in range(start_epoch, num_epoch):\n",
    "        if print_stats:\n",
    "            print('='*10, 'Epoch', ep, '='*10)\n",
    "\n",
    "        train_loss, train_score = train_epoch(model, dataloaders['train'], input_size, device, optimizer, criterion)\n",
    "        val_loss, val_score = eval_epoch(model, dataloaders['val'], input_size, device, criterion)\n",
    "        history['epoch'].append(ep)\n",
    "        history['train_score'].append(train_score), history['train_loss'].append(train_loss)\n",
    "        history['val_score'].append(val_score), history['val_loss'].append(val_loss)\n",
    "        \n",
    "        if print_stats:\n",
    "            print('%7d Loss | Score' % ep)\n",
    "            print('Train %.4f | %.1f' % (train_loss, train_score))\n",
    "            print('Valid %.4f | %.1f' % (val_loss, val_score))\n",
    "            print()\n",
    "    return model, history\n",
    "\n",
    "\n",
    "def get_output_size(input_size, kernel_size, padding, stride):\n",
    "    '''\n",
    "    Calculates an output size of a feature map given input dimension\n",
    "    '''\n",
    "    return floor((input_size - kernel_size + 2*padding) / stride) + 1"
   ]
  },
  {
   "cell_type": "code",
   "execution_count": 184,
   "metadata": {},
   "outputs": [
    {
     "name": "stdout",
     "output_type": "stream",
     "text": [
      "cuda\n"
     ]
    }
   ],
   "source": [
    "device = torch.device('cuda' if torch.cuda.is_available() else 'cpu')\n",
    "print(device)"
   ]
  },
  {
   "cell_type": "markdown",
   "metadata": {},
   "source": [
    "## MNIST"
   ]
  },
  {
   "cell_type": "markdown",
   "metadata": {},
   "source": [
    "#### Prepare Data"
   ]
  },
  {
   "cell_type": "code",
   "execution_count": 10,
   "metadata": {},
   "outputs": [],
   "source": [
    "MNIST_DIR = './mnist_data/'\n",
    "BATCH_SIZE = 64"
   ]
  },
  {
   "cell_type": "code",
   "execution_count": 13,
   "metadata": {},
   "outputs": [],
   "source": [
    "mnist_transform = transforms.Compose([\n",
    "    transforms.ToTensor(),\n",
    "    transforms.Normalize((0.45,), (0.2,)),\n",
    "])\n",
    "\n",
    "train_loader = DataLoader(datasets.MNIST(MNIST_DIR, train=True, download=False, \n",
    "                                         transform=mnist_transform),\n",
    "                          batch_size=BATCH_SIZE, shuffle=True)\n",
    "\n",
    "val_loader = DataLoader(datasets.MNIST(MNIST_DIR, train=False, download=False,\n",
    "                                       transform=mnist_transform),\n",
    "                          batch_size=BATCH_SIZE, shuffle=True)\n",
    "\n",
    "data_loaders = {\n",
    "    'train': train_loader,\n",
    "    'val': val_loader,\n",
    "}"
   ]
  },
  {
   "cell_type": "markdown",
   "metadata": {},
   "source": [
    "#### Define Network\n"
   ]
  },
  {
   "cell_type": "code",
   "execution_count": 39,
   "metadata": {},
   "outputs": [],
   "source": [
    "input_width,input_height,input_channels = 28,28,1\n",
    "num_classes = 10"
   ]
  },
  {
   "cell_type": "code",
   "execution_count": 81,
   "metadata": {},
   "outputs": [
    {
     "name": "stdout",
     "output_type": "stream",
     "text": [
      "3\n"
     ]
    }
   ],
   "source": [
    "inp = 28\n",
    "for l in range(3):\n",
    "    out = get_output_size(inp, 3, 1, 1)\n",
    "    out = get_output_size(out, 2, 0, 2)\n",
    "    inp = out\n",
    "print(out)"
   ]
  },
  {
   "cell_type": "code",
   "execution_count": 97,
   "metadata": {},
   "outputs": [],
   "source": [
    "class ConvNet(nn.Module):\n",
    "    '''\n",
    "    A simple convnet\n",
    "    '''\n",
    "    def __init__(self,):\n",
    "        super(ConvNet, self).__init__()\n",
    "        \n",
    "        self.conv1 = nn.Conv2d(1, 16, kernel_size=3, stride=1, padding=1)\n",
    "        self.conv2 = nn.Conv2d(16, 32, kernel_size=3, stride=1, padding=1)\n",
    "        self.conv3 = nn.Conv2d(32, 64, kernel_size=3, stride=1, padding=1)\n",
    "        self.max_pool = nn.MaxPool2d(2, stride=2, padding=0)\n",
    "        self.relu = nn.ReLU()\n",
    "        self.fc1 = nn.Linear(out * out * 64, num_classes)\n",
    "        self.softmax = nn.LogSoftmax(dim=1)\n",
    "        \n",
    "        \n",
    "    def forward(self, x):\n",
    "        hidden1 = self.relu(self.conv1(x))\n",
    "        pool1 = self.max_pool(hidden1)\n",
    "        hidden2 = self.relu(self.conv2(pool1))\n",
    "        pool2 = self.max_pool(hidden2)\n",
    "        hidden3 = self.relu(self.conv3(pool2))\n",
    "        pool3 = self.max_pool(hidden3)\n",
    "        reshaped = pool3.view(-1, out * out * 64)\n",
    "        fc1 = self.fc1(reshaped)\n",
    "        return self.softmax(fc1)"
   ]
  },
  {
   "cell_type": "code",
   "execution_count": 98,
   "metadata": {},
   "outputs": [
    {
     "name": "stdout",
     "output_type": "stream",
     "text": [
      "ConvNet(\n",
      "  (conv1): Conv2d(1, 16, kernel_size=(3, 3), stride=(1, 1), padding=(1, 1))\n",
      "  (conv2): Conv2d(16, 32, kernel_size=(3, 3), stride=(1, 1), padding=(1, 1))\n",
      "  (conv3): Conv2d(32, 64, kernel_size=(3, 3), stride=(1, 1), padding=(1, 1))\n",
      "  (max_pool): MaxPool2d(kernel_size=2, stride=2, padding=0, dilation=1, ceil_mode=False)\n",
      "  (relu): ReLU()\n",
      "  (fc1): Linear(in_features=576, out_features=10, bias=True)\n",
      "  (softmax): LogSoftmax()\n",
      ")\n"
     ]
    }
   ],
   "source": [
    "net = ConvNet().to(device)\n",
    "\n",
    "print(net)"
   ]
  },
  {
   "cell_type": "markdown",
   "metadata": {},
   "source": [
    "#### Train and Evaluate"
   ]
  },
  {
   "cell_type": "code",
   "execution_count": 89,
   "metadata": {},
   "outputs": [],
   "source": [
    "learning_rate = 0.1\n",
    "num_epoch = 10\n",
    "input_dims = (input_channels, input_width, input_height)"
   ]
  },
  {
   "cell_type": "code",
   "execution_count": 90,
   "metadata": {},
   "outputs": [],
   "source": [
    "optimizer = optim.SGD(net.parameters(), learning_rate)\n",
    "criteria = nn.CrossEntropyLoss()"
   ]
  },
  {
   "cell_type": "code",
   "execution_count": 91,
   "metadata": {},
   "outputs": [
    {
     "name": "stdout",
     "output_type": "stream",
     "text": [
      "========== Epoch 0 ==========\n",
      "      0 Loss | Score\n",
      "Train 0.1732 | 94.6\n",
      "Valid 0.0854 | 97.3\n",
      "\n",
      "========== Epoch 1 ==========\n",
      "      1 Loss | Score\n",
      "Train 0.0456 | 98.6\n",
      "Valid 0.0448 | 98.5\n",
      "\n",
      "========== Epoch 2 ==========\n",
      "      2 Loss | Score\n",
      "Train 0.0331 | 99.0\n",
      "Valid 0.0380 | 98.8\n",
      "\n",
      "========== Epoch 3 ==========\n",
      "      3 Loss | Score\n",
      "Train 0.0257 | 99.2\n",
      "Valid 0.0272 | 99.1\n",
      "\n",
      "========== Epoch 4 ==========\n",
      "      4 Loss | Score\n",
      "Train 0.0212 | 99.3\n",
      "Valid 0.0267 | 99.1\n",
      "\n",
      "========== Epoch 5 ==========\n",
      "      5 Loss | Score\n",
      "Train 0.0163 | 99.5\n",
      "Valid 0.0313 | 98.9\n",
      "\n",
      "========== Epoch 6 ==========\n",
      "      6 Loss | Score\n",
      "Train 0.0144 | 99.5\n",
      "Valid 0.0286 | 99.2\n",
      "\n",
      "========== Epoch 7 ==========\n",
      "      7 Loss | Score\n",
      "Train 0.0119 | 99.6\n",
      "Valid 0.0327 | 99.0\n",
      "\n",
      "========== Epoch 8 ==========\n",
      "      8 Loss | Score\n",
      "Train 0.0099 | 99.7\n",
      "Valid 0.0257 | 99.2\n",
      "\n",
      "========== Epoch 9 ==========\n",
      "      9 Loss | Score\n",
      "Train 0.0075 | 99.8\n",
      "Valid 0.0334 | 99.0\n",
      "\n"
     ]
    }
   ],
   "source": [
    "model, training = run_training(num_epoch, net, data_loaders, input_dims, optimizer, criteria, device,)"
   ]
  },
  {
   "cell_type": "markdown",
   "metadata": {},
   "source": [
    "#### Reporting\n",
    "\n",
    "After 4 epochs of training basic net achieves over 99%. \n",
    "Let's try CIFAR-10 instead"
   ]
  },
  {
   "cell_type": "markdown",
   "metadata": {},
   "source": [
    "## CIFAR-10"
   ]
  },
  {
   "cell_type": "markdown",
   "metadata": {},
   "source": [
    "#### Data Loader"
   ]
  },
  {
   "cell_type": "code",
   "execution_count": 185,
   "metadata": {},
   "outputs": [],
   "source": [
    "BATCH_SIZE = 64\n",
    "CIFAR_DIR = './CIFAR10'"
   ]
  },
  {
   "cell_type": "code",
   "execution_count": 186,
   "metadata": {},
   "outputs": [],
   "source": [
    "cifar_transforms = transforms.Compose([\n",
    "    transforms.ToTensor(),\n",
    "    transforms.Normalize((0.49,), (0.21,))\n",
    "])"
   ]
  },
  {
   "cell_type": "code",
   "execution_count": 187,
   "metadata": {},
   "outputs": [
    {
     "name": "stdout",
     "output_type": "stream",
     "text": [
      "Files already downloaded and verified\n",
      "Files already downloaded and verified\n"
     ]
    }
   ],
   "source": [
    "train_loader = DataLoader(datasets.CIFAR10(CIFAR_DIR, train=True, transform=cifar_transforms, download=True),\n",
    "                          batch_size=BATCH_SIZE, shuffle=True)\n",
    "val_loader = DataLoader(datasets.CIFAR10(CIFAR_DIR, train=False, transform=cifar_transforms, download=True),\n",
    "                          batch_size=BATCH_SIZE, shuffle=True)\n",
    "data_loaders = {\n",
    "    'train': train_loader,\n",
    "    'val': val_loader,\n",
    "}"
   ]
  },
  {
   "cell_type": "markdown",
   "metadata": {},
   "source": [
    "#### Net"
   ]
  },
  {
   "cell_type": "code",
   "execution_count": 188,
   "metadata": {},
   "outputs": [],
   "source": [
    "input_width,input_height,input_channels = 32,32,3\n",
    "num_classes = 10"
   ]
  },
  {
   "cell_type": "code",
   "execution_count": 307,
   "metadata": {},
   "outputs": [
    {
     "name": "stdout",
     "output_type": "stream",
     "text": [
      "2 256\n"
     ]
    }
   ],
   "source": [
    "begin = 32\n",
    "filters = [1,3,3,]\n",
    "for f in filters:\n",
    "    out = get_output_size(begin, f, 0, 1)\n",
    "    out = get_output_size(out, 2, 0, 2)\n",
    "    begin = out\n",
    "    \n",
    "conv_out_size = out * out * 64\n",
    "print(out, conv_out_size)"
   ]
  },
  {
   "cell_type": "code",
   "execution_count": 297,
   "metadata": {},
   "outputs": [],
   "source": [
    "import math\n",
    "from torch import nn\n",
    "\n",
    "\n",
    "class ConvNet(nn.Module):\n",
    "    '''\n",
    "    A simple convnet\n",
    "    '''\n",
    "    def __init__(self,):\n",
    "        super(ConvNet, self).__init__()\n",
    "        self.conv1 = nn.Conv2d(input_channels, 16, kernel_size=3, stride=1, padding=1)\n",
    "#         self.conv1_2 = nn.Conv2d(16, 16, kernel_size=3, stride=1, padding=1)\n",
    "        self.batchnorm1 = nn.BatchNorm2d(16)\n",
    "        self.conv2 = nn.Conv2d(16, 32, kernel_size=3, stride=1, padding=1)\n",
    "#         self.conv2_2 = nn.Conv2d(32, 32, kernel_size=3, stride=1, padding=1)\n",
    "        self.batchnorm2 = nn.BatchNorm2d(32)\n",
    "        self.conv3 = nn.Conv2d(32, 64, kernel_size=3, stride=1, padding=1)\n",
    "#         self.conv3_2 = nn.Conv2d(64, 64, kernel_size=3, stride=1, padding=1)\n",
    "        self.batchnorm3 = nn.BatchNorm2d(64)\n",
    "        self.max_pool = nn.MaxPool2d(2, stride=2, padding=0)\n",
    "        self.relu = nn.ReLU()\n",
    "        self.fc1 = nn.Linear(conv_out_size, num_classes)\n",
    "#         self.fc2 = nn.Linear(256, 100)\n",
    "#         self.fc3 = nn.Linear(100, num_classes)\n",
    "        self.softmax = nn.LogSoftmax(dim=1)\n",
    "#         self.dropout = nn.Dropout2d(0.5)\n",
    "        \n",
    "        \n",
    "    def forward(self, x):\n",
    "        hidden1 = self.relu(self.conv1(x))\n",
    "#         hidden1 = self.relu(self.conv1_2(hidden1))\n",
    "        hidden1 = self.batchnorm1(hidden1)\n",
    "        pool1 = self.max_pool(hidden1)\n",
    "        hidden2 = self.relu(self.conv2(pool1))\n",
    "#         hidden2 = self.relu(self.conv2_2(hidden2))\n",
    "        hidden2 = self.batchnorm2(hidden2)\n",
    "        pool2 = self.max_pool(hidden2)\n",
    "        hidden3 = self.relu(self.conv3(pool2))\n",
    "#         hidden3 = self.relu(self.conv3_2(hidden3))\n",
    "        hidden3 = self.batchnorm3(hidden3)\n",
    "        pool3 = self.max_pool(hidden3)\n",
    "        reshaped = pool3.view(-1, conv_out_size)\n",
    "        fc1 = self.softmax(self.fc1(reshaped))\n",
    "#         fc2 = self.relu(self.fc2(fc1))\n",
    "#         fc3 = self.softmax(self.fc3(fc2))\n",
    "        return fc1"
   ]
  },
  {
   "cell_type": "code",
   "execution_count": 298,
   "metadata": {},
   "outputs": [
    {
     "name": "stdout",
     "output_type": "stream",
     "text": [
      "ConvNet(\n",
      "  (conv1): Conv2d(3, 16, kernel_size=(3, 3), stride=(1, 1), padding=(1, 1))\n",
      "  (batchnorm1): BatchNorm2d(16, eps=1e-05, momentum=0.1, affine=True, track_running_stats=True)\n",
      "  (conv2): Conv2d(16, 32, kernel_size=(3, 3), stride=(1, 1), padding=(1, 1))\n",
      "  (batchnorm2): BatchNorm2d(32, eps=1e-05, momentum=0.1, affine=True, track_running_stats=True)\n",
      "  (conv3): Conv2d(32, 64, kernel_size=(3, 3), stride=(1, 1), padding=(1, 1))\n",
      "  (batchnorm3): BatchNorm2d(64, eps=1e-05, momentum=0.1, affine=True, track_running_stats=True)\n",
      "  (max_pool): MaxPool2d(kernel_size=2, stride=2, padding=0, dilation=1, ceil_mode=False)\n",
      "  (relu): ReLU()\n",
      "  (fc1): Linear(in_features=1024, out_features=10, bias=True)\n",
      "  (softmax): LogSoftmax()\n",
      ")\n"
     ]
    }
   ],
   "source": [
    "net = ConvNet().to(device)\n",
    "\n",
    "print(net)"
   ]
  },
  {
   "cell_type": "markdown",
   "metadata": {},
   "source": [
    "#### Train and Evaluate"
   ]
  },
  {
   "cell_type": "code",
   "execution_count": 299,
   "metadata": {},
   "outputs": [],
   "source": [
    "learning_rate = 0.01\n",
    "num_epoch = 30\n",
    "input_dims = (input_channels, input_width, input_height)"
   ]
  },
  {
   "cell_type": "code",
   "execution_count": 300,
   "metadata": {},
   "outputs": [],
   "source": [
    "optimizer = optim.SGD(net.parameters(), learning_rate,)\n",
    "# optimizer = optim.Adadelta(net.parameters(), learning_rate)\n",
    "# optimizer = optim.RMSprop(net.parameters(), learning_rate)\n",
    "# optimizer = optim.Adam(net.parameters(), learning_rate)\n",
    "criteria = nn.CrossEntropyLoss()"
   ]
  },
  {
   "cell_type": "code",
   "execution_count": 301,
   "metadata": {
    "scrolled": true
   },
   "outputs": [
    {
     "name": "stdout",
     "output_type": "stream",
     "text": [
      "========== Epoch 0 ==========\n",
      "      0 Loss | Score\n",
      "Train 1.4288 | 49.7\n",
      "Valid 1.1992 | 57.6\n",
      "\n",
      "========== Epoch 1 ==========\n",
      "      1 Loss | Score\n",
      "Train 1.0926 | 61.8\n",
      "Valid 1.2389 | 55.7\n",
      "\n",
      "========== Epoch 2 ==========\n",
      "      2 Loss | Score\n",
      "Train 0.9624 | 66.7\n",
      "Valid 1.0506 | 62.8\n",
      "\n",
      "========== Epoch 3 ==========\n",
      "      3 Loss | Score\n",
      "Train 0.8851 | 69.4\n",
      "Valid 1.0129 | 64.8\n",
      "\n",
      "========== Epoch 4 ==========\n",
      "      4 Loss | Score\n",
      "Train 0.8279 | 71.4\n",
      "Valid 0.9263 | 67.6\n",
      "\n",
      "========== Epoch 5 ==========\n",
      "      5 Loss | Score\n",
      "Train 0.7819 | 72.9\n",
      "Valid 1.0740 | 63.5\n",
      "\n",
      "========== Epoch 6 ==========\n",
      "      6 Loss | Score\n",
      "Train 0.7408 | 74.1\n",
      "Valid 0.8930 | 68.9\n",
      "\n",
      "========== Epoch 7 ==========\n",
      "      7 Loss | Score\n",
      "Train 0.7113 | 75.4\n",
      "Valid 1.0479 | 64.8\n",
      "\n",
      "========== Epoch 8 ==========\n",
      "      8 Loss | Score\n",
      "Train 0.6802 | 76.4\n",
      "Valid 0.8904 | 69.1\n",
      "\n",
      "========== Epoch 9 ==========\n",
      "      9 Loss | Score\n",
      "Train 0.6530 | 77.5\n",
      "Valid 0.8591 | 70.4\n",
      "\n",
      "========== Epoch 10 ==========\n",
      "     10 Loss | Score\n",
      "Train 0.6278 | 78.3\n",
      "Valid 1.0130 | 66.3\n",
      "\n",
      "========== Epoch 11 ==========\n",
      "     23 Loss | Score\n",
      "Train 0.4368 | 84.8\n",
      "Valid 0.8896 | 72.0\n",
      "\n",
      "========== Epoch 24 ==========\n",
      "     24 Loss | Score\n",
      "Train 0.4255 | 85.2\n",
      "Valid 1.0935 | 68.3\n",
      "\n",
      "========== Epoch 25 ==========\n",
      "     25 Loss | Score\n",
      "Train 0.4152 | 85.5\n",
      "Valid 0.9334 | 71.6\n",
      "\n",
      "========== Epoch 26 ==========\n",
      "     26 Loss | Score\n",
      "Train 0.4076 | 85.7\n",
      "Valid 0.9441 | 71.4\n",
      "\n",
      "========== Epoch 27 ==========\n",
      "     27 Loss | Score\n",
      "Train 0.3964 | 86.2\n",
      "Valid 0.9706 | 71.5\n",
      "\n",
      "========== Epoch 28 ==========\n",
      "     28 Loss | Score\n",
      "Train 0.3887 | 86.4\n",
      "Valid 0.9743 | 71.2\n",
      "\n",
      "========== Epoch 29 ==========\n",
      "     29 Loss | Score\n",
      "Train 0.3807 | 86.8\n",
      "Valid 1.0165 | 70.6\n",
      "\n"
     ]
    }
   ],
   "source": [
    "model, history = run_training(num_epoch, net, data_loaders, input_dims, optimizer, criteria, device,\n",
    "                             history=None)"
   ]
  },
  {
   "cell_type": "code",
   "execution_count": 302,
   "metadata": {},
   "outputs": [
    {
     "data": {
      "image/png": "[encoded data removed]",
      "text/plain": [
       "<Figure size 864x288 with 2 Axes>"
      ]
     },
     "metadata": {},
     "output_type": "display_data"
    }
   ],
   "source": [
    "plot_learning_curve(history)"
   ]
  },
  {
   "cell_type": "markdown",
   "metadata": {},
   "source": [
    "#### Reporting\n",
    "\n",
    "Set parameters:\n",
    "- SGD with learning rate at 0.1\n",
    "- No batchnorm\n",
    "- batch size 64\n",
    "- all kernel filters at 3, padding=1, stride=1\n",
    "- Convolutional layers with filters [3,16], [16,32] and [32,64]\n",
    "- Convolutional blocks are 2 convolutions with number of filters of [i, o] and [o, o]\n",
    "- Fully connected layers' units are [1024,256], [256,100] and [100,10]\n",
    "\n",
    "|Epochs|Architecture|Max val score|Corresponding train score|\n",
    "|---|---|---|---|\n",
    "|20|3 conv layers + 1 fc layer|0.659|0.709|\n",
    "|20|3 conv layers + 2 fc layers|0.679|0.747|\n",
    "|30|3 conv layers + 3 fc layers|0.691|0.817|\n",
    "|30|3 conv blocks + 3 fc layers|0.71|0.792|\n",
    "|30|3 conv blocks + batchnorm + 3 fc layers|0.745|0.964|\n",
    "|30|3 conv layers + batchnorm + 3 fc layers|0.737|0.924|\n",
    "|30|3 conv layers + batchnorm + 1 fc layer|0.72|0.848|"
   ]
  },
  {
   "cell_type": "code",
   "execution_count": null,
   "metadata": {},
   "outputs": [],
   "source": []
  }
 ],
 "metadata": {
  "kernelspec": {
   "display_name": "Python 3",
   "language": "python",
   "name": "python3"
  },
  "language_info": {
   "codemirror_mode": {
    "name": "ipython",
    "version": 3
   },
   "file_extension": ".py",
   "mimetype": "text/x-python",
   "name": "python",
   "nbconvert_exporter": "python",
   "pygments_lexer": "ipython3",
   "version": "3.5.5"
  }
 },
 "nbformat": 4,
 "nbformat_minor": 2
}
