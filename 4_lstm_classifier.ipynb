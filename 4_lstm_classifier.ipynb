{
 "cells": [
  {
   "cell_type": "markdown",
   "metadata": {},
   "source": [
    "# Name Classification with Recurrent Nets\n",
    "\n",
    "Following [this](https://pytorch.org/tutorials/intermediate/char_rnn_classification_tutorial.html) tutorial"
   ]
  },
  {
   "cell_type": "markdown",
   "metadata": {},
   "source": [
    "### Prepare texts"
   ]
  },
  {
   "cell_type": "code",
   "execution_count": 2,
   "metadata": {},
   "outputs": [],
   "source": [
    "from __future__ import unicode_literals, print_function, division\n",
    "import io\n",
    "import glob\n",
    "import os\n",
    "import unicodedata\n",
    "import string"
   ]
  },
  {
   "cell_type": "code",
   "execution_count": 3,
   "metadata": {},
   "outputs": [],
   "source": [
    "def findFiles(path): return glob.glob(path)\n",
    "\n",
    "\n",
    "# Turn a Unicode string to plain ASCII, thanks to https://stackoverflow.com/a/518232/2809427\n",
    "def unicodeToAscii(s):\n",
    "    return ''.join(\n",
    "        c for c in unicodedata.normalize('NFD', s)\n",
    "        if unicodedata.category(c) != 'Mn'\n",
    "        and c in all_letters\n",
    "    )\n",
    "\n",
    "\n",
    "# Read a file and split into lines\n",
    "def readLines(filename):\n",
    "    lines = open(filename, encoding='utf-8').read().strip().split('\\n')\n",
    "    return [unicodeToAscii(line) for line in lines]"
   ]
  },
  {
   "cell_type": "code",
   "execution_count": 4,
   "metadata": {},
   "outputs": [
    {
     "name": "stdout",
     "output_type": "stream",
     "text": [
      "['data/names/Italian.txt', 'data/names/Chinese.txt', 'data/names/Greek.txt', 'data/names/Czech.txt', 'data/names/Spanish.txt', 'data/names/Vietnamese.txt', 'data/names/German.txt', 'data/names/Dutch.txt', 'data/names/French.txt', 'data/names/English.txt', 'data/names/Polish.txt', 'data/names/Russian.txt', 'data/names/Japanese.txt', 'data/names/Scottish.txt', 'data/names/Irish.txt', 'data/names/Portuguese.txt', 'data/names/Korean.txt', 'data/names/Arabic.txt']\n"
     ]
    }
   ],
   "source": [
    "print(findFiles('data/names/*.txt'))"
   ]
  },
  {
   "cell_type": "code",
   "execution_count": 5,
   "metadata": {},
   "outputs": [],
   "source": [
    "all_letters = string.ascii_letters + \" .,;'\"\n",
    "n_letters = len(all_letters)"
   ]
  },
  {
   "cell_type": "code",
   "execution_count": 6,
   "metadata": {},
   "outputs": [
    {
     "name": "stdout",
     "output_type": "stream",
     "text": [
      "Slusarski\n"
     ]
    }
   ],
   "source": [
    "print(unicodeToAscii('Ślusàrski'))"
   ]
  },
  {
   "cell_type": "code",
   "execution_count": 7,
   "metadata": {},
   "outputs": [],
   "source": [
    "# Build the category_lines dictionary, a list of names per language\n",
    "category_lines = {}\n",
    "all_categories = []\n",
    "\n",
    "for filename in findFiles('data/names/*.txt'):\n",
    "    category = os.path.splitext(os.path.basename(filename))[0]\n",
    "    all_categories.append(category)\n",
    "    lines = readLines(filename)\n",
    "    category_lines[category] = lines\n",
    "\n",
    "n_categories = len(all_categories)"
   ]
  },
  {
   "cell_type": "code",
   "execution_count": 8,
   "metadata": {},
   "outputs": [
    {
     "name": "stdout",
     "output_type": "stream",
     "text": [
      "['Abandonato', 'Abatangelo', 'Abatantuono', 'Abate', 'Abategiovanni']\n"
     ]
    }
   ],
   "source": [
    "print(category_lines['Italian'][:5])\n"
   ]
  },
  {
   "cell_type": "markdown",
   "metadata": {},
   "source": [
    "### Turn data into tensors"
   ]
  },
  {
   "cell_type": "code",
   "execution_count": 9,
   "metadata": {},
   "outputs": [],
   "source": [
    "import torch"
   ]
  },
  {
   "cell_type": "code",
   "execution_count": 10,
   "metadata": {},
   "outputs": [],
   "source": [
    "# Find letter index from all_letters, e.g. \"a\" = 0\n",
    "def letterToIndex(letter):\n",
    "    return all_letters.find(letter)\n",
    "\n",
    "# Just for demonstration, turn a letter into a <1 x n_letters> Tensor\n",
    "def letterToTensor(letter):\n",
    "    tensor = torch.zeros(1, n_letters)\n",
    "    tensor[0][letterToIndex(letter)] = 1\n",
    "    return tensor\n",
    "\n",
    "# Turn a line into a <line_length x 1 x n_letters>,\n",
    "# or an array of one-hot letter vectors\n",
    "def lineToTensor(line):\n",
    "    tensor = torch.zeros(len(line), 1, n_letters)\n",
    "    for li, letter in enumerate(line):\n",
    "        tensor[li][0][letterToIndex(letter)] = 1\n",
    "    return tensor"
   ]
  },
  {
   "cell_type": "code",
   "execution_count": 11,
   "metadata": {},
   "outputs": [
    {
     "name": "stdout",
     "output_type": "stream",
     "text": [
      "tensor([[0., 0., 0., 0., 0., 0., 0., 0., 0., 0., 0., 0., 0., 0., 0., 0., 0., 0.,\n",
      "         0., 0., 0., 0., 0., 0., 0., 0., 0., 0., 0., 0., 0., 0., 0., 0., 0., 1.,\n",
      "         0., 0., 0., 0., 0., 0., 0., 0., 0., 0., 0., 0., 0., 0., 0., 0., 0., 0.,\n",
      "         0., 0., 0.]])\n",
      "torch.Size([5, 1, 57])\n"
     ]
    }
   ],
   "source": [
    "print(letterToTensor('J'))\n",
    "\n",
    "print(lineToTensor('Jones').size())"
   ]
  },
  {
   "cell_type": "markdown",
   "metadata": {},
   "source": [
    "### Create network"
   ]
  },
  {
   "cell_type": "code",
   "execution_count": 12,
   "metadata": {},
   "outputs": [],
   "source": [
    "import torch.nn as nn"
   ]
  },
  {
   "cell_type": "code",
   "execution_count": 13,
   "metadata": {},
   "outputs": [],
   "source": [
    "device = torch.device('cuda' if torch.cuda.is_available() else 'cpu')"
   ]
  },
  {
   "cell_type": "code",
   "execution_count": 14,
   "metadata": {},
   "outputs": [],
   "source": [
    "class RNN(nn.Module):\n",
    "    def __init__(self, input_size, hidden_size, output_size):\n",
    "        super(RNN, self).__init__()\n",
    "\n",
    "        self.hidden_size = hidden_size\n",
    "\n",
    "        self.i2h = nn.Linear(input_size + hidden_size, hidden_size)\n",
    "        self.i2o = nn.Linear(input_size + hidden_size, output_size)\n",
    "        self.softmax = nn.LogSoftmax(dim=1)\n",
    "\n",
    "    def forward(self, input, hidden):\n",
    "        combined = torch.cat((input, hidden), 1)\n",
    "        hidden = self.i2h(combined)\n",
    "        output = self.i2o(combined)\n",
    "        output = self.softmax(output)\n",
    "        return output, hidden\n",
    "\n",
    "    def initHidden(self):\n",
    "        return torch.zeros(1, self.hidden_size)"
   ]
  },
  {
   "cell_type": "code",
   "execution_count": 15,
   "metadata": {},
   "outputs": [],
   "source": [
    "n_hidden = 128\n",
    "rnn = RNN(n_letters, n_hidden, n_categories).to(device)"
   ]
  },
  {
   "cell_type": "code",
   "execution_count": 16,
   "metadata": {},
   "outputs": [],
   "source": [
    "input = letterToTensor('A').to(device)\n",
    "hidden = torch.zeros(1, n_hidden).to(device)\n",
    "\n",
    "output, next_hidden = rnn(input, hidden)"
   ]
  },
  {
   "cell_type": "code",
   "execution_count": 17,
   "metadata": {},
   "outputs": [
    {
     "name": "stdout",
     "output_type": "stream",
     "text": [
      "tensor([[-2.9275, -2.9646, -2.7773, -2.9665, -2.9177, -2.7694, -2.8030, -2.9159,\n",
      "         -2.9548, -2.9016, -2.8494, -2.9064, -2.9396, -2.9867, -2.9103, -2.8051,\n",
      "         -2.8872, -2.8813]], device='cuda:0', grad_fn=<LogSoftmaxBackward>)\n"
     ]
    }
   ],
   "source": [
    "input = lineToTensor('Albert').to(device)\n",
    "hidden = torch.zeros(1, n_hidden).to(device)\n",
    "\n",
    "output, next_hidden = rnn(input[0], hidden)\n",
    "print(output)"
   ]
  },
  {
   "cell_type": "markdown",
   "metadata": {},
   "source": [
    "### Training"
   ]
  },
  {
   "cell_type": "code",
   "execution_count": 18,
   "metadata": {},
   "outputs": [],
   "source": [
    "import random\n",
    "import time\n",
    "import math\n"
   ]
  },
  {
   "cell_type": "code",
   "execution_count": 19,
   "metadata": {},
   "outputs": [],
   "source": [
    "def categoryFromOutput(output):\n",
    "    top_n, top_i = output.topk(1)\n",
    "    category_i = top_i[0].item()\n",
    "    return all_categories[category_i], category_i\n",
    "\n",
    "\n",
    "def randomChoice(l):\n",
    "    return l[random.randint(0, len(l) - 1)]\n",
    "\n",
    "\n",
    "def randomTrainingExample():\n",
    "    category = randomChoice(all_categories)\n",
    "    line = randomChoice(category_lines[category])\n",
    "    category_tensor = torch.tensor([all_categories.index(category)], dtype=torch.long).to(device)\n",
    "    line_tensor = lineToTensor(line).to(device)\n",
    "    return category, line, category_tensor, line_tensor\n",
    "\n",
    "\n",
    "def train(category_tensor, line_tensor):\n",
    "    hidden = rnn.initHidden().to(device)\n",
    "\n",
    "    rnn.zero_grad()\n",
    "\n",
    "    for i in range(line_tensor.size()[0]):\n",
    "        output, hidden = rnn(line_tensor[i], hidden)\n",
    "\n",
    "    loss = criterion(output, category_tensor)\n",
    "    loss.backward()\n",
    "\n",
    "    # Add parameters' gradients to their values, multiplied by learning rate\n",
    "    for p in rnn.parameters():\n",
    "        p.data.add_(-learning_rate, p.grad.data)\n",
    "\n",
    "    return output, loss.item()\n",
    "\n",
    "\n",
    "def timeSince(since):\n",
    "    now = time.time()\n",
    "    s = now - since\n",
    "    m = math.floor(s / 60)\n",
    "    s -= m * 60\n",
    "    return '%dm %ds' % (m, s)"
   ]
  },
  {
   "cell_type": "code",
   "execution_count": 20,
   "metadata": {},
   "outputs": [
    {
     "name": "stdout",
     "output_type": "stream",
     "text": [
      "('Vietnamese', 5)\n"
     ]
    }
   ],
   "source": [
    "print(categoryFromOutput(output))"
   ]
  },
  {
   "cell_type": "code",
   "execution_count": 21,
   "metadata": {},
   "outputs": [
    {
     "name": "stdout",
     "output_type": "stream",
     "text": [
      "category = German / line = Strobel\n",
      "category = French / line = Travers\n",
      "category = Italian / line = Abbadelli\n",
      "category = Polish / line = Stawski\n",
      "category = German / line = Jordan\n",
      "category = Dutch / line = Lucassen\n",
      "category = German / line = Hartmann\n",
      "category = Chinese / line = Shaw\n",
      "category = Irish / line = O'Dowd\n",
      "category = Dutch / line = Ven\n"
     ]
    }
   ],
   "source": [
    "for i in range(10):\n",
    "    category, line, category_tensor, line_tensor = randomTrainingExample()\n",
    "    print('category =', category, '/ line =', line)"
   ]
  },
  {
   "cell_type": "code",
   "execution_count": 22,
   "metadata": {},
   "outputs": [],
   "source": [
    "criterion = nn.NLLLoss()"
   ]
  },
  {
   "cell_type": "code",
   "execution_count": 23,
   "metadata": {},
   "outputs": [],
   "source": [
    "learning_rate = 0.005 # If you set this too high, it might explode. If too low, it might not learn"
   ]
  },
  {
   "cell_type": "code",
   "execution_count": 24,
   "metadata": {
    "scrolled": true
   },
   "outputs": [
    {
     "name": "stdout",
     "output_type": "stream",
     "text": [
      "1000 1% (0m 1s) 2.8413 Shang / Italian ✗ (Chinese)\n",
      "2000 2% (0m 3s) 2.8158 Christodoulou / Korean ✗ (Greek)\n",
      "3000 3% (0m 5s) 3.0127 Bleskan / Chinese ✗ (Czech)\n",
      "4000 4% (0m 7s) 2.8026 Foong / Portuguese ✗ (Chinese)\n",
      "5000 5% (0m 9s) 2.4092 Nitta / Japanese ✓\n",
      "6000 6% (0m 11s) 2.9066 Mclaughlin / Greek ✗ (Scottish)\n",
      "7000 7% (0m 13s) 1.6233 Grushevsky / Russian ✓\n",
      "8000 8% (0m 15s) 2.4349 Okano / Portuguese ✗ (Japanese)\n",
      "9000 9% (0m 17s) 1.8763 Ha / Korean ✓\n",
      "10000 10% (0m 19s) 1.7339 Trieu / Vietnamese ✓\n",
      "11000 11% (0m 21s) 2.2620 Mikhail / Japanese ✗ (Arabic)\n",
      "12000 12% (0m 22s) 2.8174 Gagin / Arabic ✗ (Russian)\n",
      "13000 13% (0m 24s) 1.2222 Zhao / Vietnamese ✗ (Chinese)\n",
      "14000 14% (0m 26s) 1.1677 Benvenuti / Italian ✓\n",
      "15000 15% (0m 28s) 5.1120 Can / Chinese ✗ (Dutch)\n",
      "16000 16% (0m 30s) 1.9725 Yeardsley / Dutch ✗ (English)\n",
      "17000 17% (0m 32s) 0.9879 Szwedko / Polish ✓\n",
      "18000 18% (0m 34s) 1.9046 Nardi / Arabic ✗ (Italian)\n",
      "19000 19% (0m 35s) 1.2373 Auer / German ✓\n",
      "20000 20% (0m 37s) 1.3228 Lesauvage / French ✓\n",
      "21000 21% (0m 39s) 1.5947 Ramecker / German ✗ (Dutch)\n",
      "22000 22% (0m 41s) 2.4790 Mcgowan / Irish ✗ (English)\n",
      "23000 23% (0m 43s) 1.7355 Xiong / Vietnamese ✗ (Chinese)\n",
      "24000 24% (0m 45s) 1.5167 Akker / German ✗ (Dutch)\n",
      "25000 25% (0m 47s) 2.1211 Beyersdorf / Dutch ✗ (German)\n",
      "26000 26% (0m 49s) 0.1034 Protopsaltis / Greek ✓\n",
      "27000 27% (0m 51s) 1.1747 Ku / Korean ✓\n",
      "28000 28% (0m 52s) 1.8541 Albero / Portuguese ✗ (Italian)\n",
      "29000 28% (0m 54s) 1.4281 Slezak / Czech ✓\n",
      "30000 30% (0m 56s) 0.1500 Hirayama / Japanese ✓\n",
      "31000 31% (0m 58s) 1.3977 Stevenson / Dutch ✗ (Scottish)\n",
      "32000 32% (1m 0s) 1.5122 Romero / Portuguese ✗ (Italian)\n",
      "33000 33% (1m 2s) 1.2458 Halabi / Japanese ✗ (Arabic)\n",
      "34000 34% (1m 4s) 2.2719 Gott / Korean ✗ (German)\n",
      "35000 35% (1m 6s) 0.2403 Paraskos / Greek ✓\n",
      "36000 36% (1m 8s) 3.3059 Rossum / Arabic ✗ (Dutch)\n",
      "37000 37% (1m 10s) 1.9043 Maclean / Irish ✗ (Scottish)\n",
      "38000 38% (1m 12s) 1.5452 Rios / Greek ✗ (Portuguese)\n",
      "39000 39% (1m 13s) 2.1251 Bernat / Czech ✗ (German)\n",
      "40000 40% (1m 15s) 3.1350 Degarmo / Portuguese ✗ (French)\n",
      "41000 41% (1m 17s) 0.0310 Warszawski / Polish ✓\n",
      "42000 42% (1m 19s) 1.9369 Bavin / French ✗ (Russian)\n",
      "43000 43% (1m 21s) 1.7776 Phung / Chinese ✗ (Vietnamese)\n",
      "44000 44% (1m 23s) 0.3685 Salvatici / Italian ✓\n",
      "45000 45% (1m 25s) 1.1987 Mai / Chinese ✗ (Vietnamese)\n",
      "46000 46% (1m 27s) 0.9143 Pavlicka / Polish ✗ (Czech)\n",
      "47000 47% (1m 29s) 3.1979 Wiater / German ✗ (Polish)\n",
      "48000 48% (1m 31s) 0.0395 Antonopoulos / Greek ✓\n",
      "49000 49% (1m 33s) 1.0880 Duncan / Irish ✓\n",
      "50000 50% (1m 34s) 1.6703 Muller / Scottish ✗ (German)\n",
      "51000 51% (1m 36s) 1.7489 Docherty / English ✗ (Scottish)\n",
      "52000 52% (1m 38s) 1.6556 Stangl / German ✗ (Czech)\n",
      "53000 53% (1m 40s) 2.4989 Gehrig / Scottish ✗ (German)\n",
      "54000 54% (1m 42s) 2.5804 Hayden / Arabic ✗ (Irish)\n",
      "55000 55% (1m 44s) 0.1726 Schneiders / Dutch ✓\n",
      "56000 56% (1m 46s) 1.0783 Ho / Korean ✗ (Vietnamese)\n",
      "57000 56% (1m 47s) 1.0055 Ha / Korean ✓\n",
      "58000 57% (1m 49s) 1.6342 Marion / French ✓\n",
      "59000 59% (1m 51s) 0.6306 Coelho / Portuguese ✓\n",
      "60000 60% (1m 53s) 2.1751 Bryan / Scottish ✗ (English)\n",
      "61000 61% (1m 55s) 1.3772 Smeets / Portuguese ✗ (Dutch)\n",
      "62000 62% (1m 57s) 1.0883 Masanobu / Arabic ✗ (Japanese)\n",
      "63000 63% (1m 59s) 1.4215 Reilly / English ✗ (Irish)\n",
      "64000 64% (2m 1s) 0.7549 Madaidhin / Irish ✓\n",
      "65000 65% (2m 2s) 2.1546 Schwarz / Polish ✗ (German)\n",
      "66000 66% (2m 4s) 0.6110 Ijiri / Japanese ✓\n",
      "67000 67% (2m 6s) 1.3223 Waterfield / English ✓\n",
      "68000 68% (2m 8s) 1.2356 Chiba / Japanese ✓\n",
      "69000 69% (2m 10s) 0.4529 Choi / Korean ✓\n",
      "70000 70% (2m 12s) 1.7320 Prinsen / English ✗ (Dutch)\n",
      "71000 71% (2m 14s) 1.0452 Arena / Spanish ✓\n",
      "72000 72% (2m 16s) 0.5615 Sakellariou / Greek ✓\n",
      "73000 73% (2m 18s) 1.1384 Geldard / English ✓\n",
      "74000 74% (2m 20s) 1.2082 Schepotkin / Dutch ✗ (Russian)\n",
      "75000 75% (2m 21s) 0.6587 Gronchi / Italian ✓\n",
      "76000 76% (2m 23s) 2.5377 Gerig / Portuguese ✗ (German)\n",
      "77000 77% (2m 25s) 0.3384 Shammas / Arabic ✓\n",
      "78000 78% (2m 27s) 3.7256 Quinn / Vietnamese ✗ (Irish)\n",
      "79000 79% (2m 29s) 0.7241 Abboud / Arabic ✓\n",
      "80000 80% (2m 31s) 4.4506 Balanda / Spanish ✗ (Russian)\n",
      "81000 81% (2m 33s) 0.9044 Mohan / Irish ✓\n",
      "82000 82% (2m 35s) 1.0075 Masudu / Japanese ✓\n",
      "83000 83% (2m 37s) 0.5372 Rim / Korean ✓\n",
      "84000 84% (2m 38s) 0.3610 Chou / Korean ✓\n",
      "85000 85% (2m 40s) 1.8789 Morita / Portuguese ✗ (Japanese)\n",
      "86000 86% (2m 42s) 2.3834 Daalen / Irish ✗ (Dutch)\n",
      "87000 87% (2m 44s) 0.9732 Raikhelson / Russian ✓\n",
      "88000 88% (2m 46s) 0.2156 Grzeskiewicz / Polish ✓\n",
      "89000 89% (2m 48s) 4.2515 Ashia / Arabic ✗ (Japanese)\n",
      "90000 90% (2m 50s) 0.1378 Slaski / Polish ✓\n",
      "91000 91% (2m 52s) 0.4158 Momotami / Japanese ✓\n",
      "92000 92% (2m 54s) 4.4283 Bartosz / Spanish ✗ (Polish)\n",
      "93000 93% (2m 55s) 2.2247 Rocha / Czech ✗ (Portuguese)\n",
      "94000 94% (2m 57s) 1.1761 Morton / English ✓\n",
      "95000 95% (2m 59s) 3.8592 Cap / Chinese ✗ (Czech)\n",
      "96000 96% (3m 1s) 2.7064 Babadjanyan / Irish ✗ (Russian)\n",
      "97000 97% (3m 3s) 2.7138 Gates / Portuguese ✗ (English)\n",
      "98000 98% (3m 5s) 2.2968 Maclean / French ✗ (Scottish)\n",
      "99000 99% (3m 7s) 0.2434 Salvage / French ✓\n",
      "100000 100% (3m 9s) 0.3990 Yosano / Japanese ✓\n"
     ]
    }
   ],
   "source": [
    "n_iters = 100000\n",
    "print_every = 1000\n",
    "plot_every = 100\n",
    "\n",
    "# Keep track of losses for plotting\n",
    "current_loss = 0\n",
    "all_losses = []\n",
    "\n",
    "start = time.time()\n",
    "\n",
    "for iter in range(1, n_iters + 1):\n",
    "    category, line, category_tensor, line_tensor = randomTrainingExample()\n",
    "    output, loss = train(category_tensor, line_tensor)\n",
    "    current_loss += loss\n",
    "\n",
    "    # Print iter number, loss, name and guess\n",
    "    if iter % print_every == 0:\n",
    "        guess, guess_i = categoryFromOutput(output)\n",
    "        correct = '✓' if guess == category else '✗ (%s)' % category\n",
    "        print('%d %d%% (%s) %.4f %s / %s %s' % (iter, iter / n_iters * 100, timeSince(start), loss, line, guess, correct))\n",
    "\n",
    "    # Add current loss avg to list of losses\n",
    "    if iter % plot_every == 0:\n",
    "        all_losses.append(current_loss / plot_every)\n",
    "        current_loss = 0"
   ]
  },
  {
   "cell_type": "code",
   "execution_count": 26,
   "metadata": {},
   "outputs": [
    {
     "data": {
      "image/png": "[encoded data removed]",
      "text/plain": [
       "<Figure size 432x288 with 1 Axes>"
      ]
     },
     "metadata": {
      "needs_background": "light"
     },
     "output_type": "display_data"
    }
   ],
   "source": [
    "import matplotlib.pyplot as plt\n",
    "import matplotlib.ticker as ticker\n",
    "\n",
    "plt.figure()\n",
    "plt.plot(all_losses)\n",
    "plt.show()"
   ]
  },
  {
   "cell_type": "markdown",
   "metadata": {},
   "source": [
    "### Evaluate results"
   ]
  },
  {
   "cell_type": "code",
   "execution_count": 35,
   "metadata": {},
   "outputs": [],
   "source": [
    "# Keep track of correct guesses in a confusion matrix\n",
    "confusion = torch.zeros(n_categories, n_categories)\n",
    "n_confusion = 10000\n",
    "\n",
    "# Just return an output given a line\n",
    "def evaluate(line_tensor):\n",
    "    hidden = rnn.initHidden().to(device)\n",
    "\n",
    "    for i in range(line_tensor.size()[0]):\n",
    "        output, hidden = rnn(line_tensor[i], hidden)\n",
    "\n",
    "    return output\n",
    "\n",
    "# Go through a bunch of examples and record which are correctly guessed\n",
    "for i in range(n_confusion):\n",
    "    category, line, category_tensor, line_tensor = randomTrainingExample()\n",
    "    output = evaluate(line_tensor)\n",
    "    guess, guess_i = categoryFromOutput(output)\n",
    "    category_i = all_categories.index(category)\n",
    "    confusion[category_i][guess_i] += 1\n",
    "\n",
    "# Normalize by dividing every row by its sum\n",
    "for i in range(n_categories):\n",
    "    confusion[i] = confusion[i] / confusion[i].sum()"
   ]
  },
  {
   "cell_type": "code",
   "execution_count": 36,
   "metadata": {},
   "outputs": [
    {
     "data": {
      "image/png": "[encoded data removed]",
      "text/plain": [
       "<Figure size 720x720 with 2 Axes>"
      ]
     },
     "metadata": {
      "needs_background": "light"
     },
     "output_type": "display_data"
    }
   ],
   "source": [
    "# Set up plot\n",
    "fig = plt.figure(figsize=(10,10))\n",
    "ax = fig.add_subplot(111)\n",
    "cax = ax.matshow(confusion.numpy())\n",
    "fig.colorbar(cax)\n",
    "\n",
    "# Set up axes\n",
    "ax.set_xticklabels([''] + all_categories, rotation=90)\n",
    "ax.set_yticklabels([''] + all_categories)\n",
    "\n",
    "# Force label at every tick\n",
    "ax.xaxis.set_major_locator(ticker.MultipleLocator(1))\n",
    "ax.yaxis.set_major_locator(ticker.MultipleLocator(1))\n",
    "\n",
    "# sphinx_gallery_thumbnail_number = 2\n",
    "plt.show()"
   ]
  },
  {
   "cell_type": "markdown",
   "metadata": {},
   "source": [
    "### User input"
   ]
  },
  {
   "cell_type": "code",
   "execution_count": 32,
   "metadata": {},
   "outputs": [],
   "source": [
    "def predict(input_line, n_predictions=3):\n",
    "    print('\\n> %s' % input_line)\n",
    "    with torch.no_grad():\n",
    "        output = evaluate(lineToTensor(input_line).to(device))\n",
    "\n",
    "        # Get top N categories\n",
    "        topv, topi = output.topk(n_predictions, 1, True)\n",
    "        predictions = []\n",
    "\n",
    "        for i in range(n_predictions):\n",
    "            value = topv[0][i].item()\n",
    "            category_index = topi[0][i].item()\n",
    "            print('(%.2f) %s' % (value, all_categories[category_index]))\n",
    "            predictions.append([value, all_categories[category_index]])\n"
   ]
  },
  {
   "cell_type": "code",
   "execution_count": 34,
   "metadata": {},
   "outputs": [
    {
     "name": "stdout",
     "output_type": "stream",
     "text": [
      "\n",
      "> Rustem\n",
      "(-0.57) Dutch\n",
      "(-2.15) English\n",
      "(-2.43) German\n",
      "\n",
      "> Jackson\n",
      "(-0.63) English\n",
      "(-1.18) Scottish\n",
      "(-2.52) Russian\n",
      "\n",
      "> Satoshi\n",
      "(-0.85) Japanese\n",
      "(-1.40) Italian\n",
      "(-1.94) Polish\n"
     ]
    }
   ],
   "source": [
    "predict('Rustem')\n",
    "predict('Jackson')\n",
    "predict('Satoshi')"
   ]
  },
  {
   "cell_type": "code",
   "execution_count": null,
   "metadata": {},
   "outputs": [],
   "source": []
  }
 ],
 "metadata": {
  "kernelspec": {
   "display_name": "Python 3",
   "language": "python",
   "name": "python3"
  }
 },
 "nbformat": 4,
 "nbformat_minor": 2
}
